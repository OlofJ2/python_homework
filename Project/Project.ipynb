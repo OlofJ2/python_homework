{
 "cells": [
  {
   "cell_type": "raw",
   "metadata": {},
   "source": [
    "Python project:\n",
    "\n",
    "Purpose:\n",
    "To read several *.plt files produced by a NLTE plasma code, and create a data exploration/visualization framework that will quickly allow the user to do the following things:\n",
    "\n",
    "*Plot a spectrum from spectral data\n",
    "*Plot other features\n",
    "*Print out a list of simulation parameters\n",
    "*Create comparisons between different simulations in a visual way, basically publishable quality auto-plotting given filenames and variable to compare\n",
    "\n",
    "BONUS: \n",
    "*3d or animation\n",
    "*Calculate what atoms were used, and give a list of atomic states (compicated due to output formatting)\n",
    "SUPERBONUS:\n",
    "*Create inputfiles for the code, manage runs at a cluster running sbatch\n",
    "\n",
    "INPUT: *.plt and *.tbl files (fixed format files with that is output from a simulation running on clusters)\n",
    "OUTPUT: *plain text files that are csv or other format readable by gnuplot, image files with annotation\n",
    "\n",
    "\n",
    "\n",
    "STRUCTURE OF CODE:\n",
    "\n",
    "PLTparser\n",
    "input: path to plt-file\n",
    "returns Simulation object\n",
    "\n",
    "Simulation\n",
    "init_method: use PLTparser\n",
    "attr: energy\n",
    "attr: intensity (same for all timestes)\n",
    "attr: list of layers\n",
    "method: calculate_plasma_parameters\n",
    "method: create_nice_plots\n",
    "method: output_text\n",
    "\n",
    "Layer\n",
    "attr: list of timesteps\n",
    "attr: material\n",
    "\n",
    "Timestep\n",
    "attr: temperature (vary with timestep)\n",
    "attr: spectrum\n",
    "attr: ionization_state\n",
    "\n",
    "Comparison\n",
    "attr: comparison_variable\n",
    "method: create_nice_plot\n",
    "method: output_text"
   ]
  },
  {
   "cell_type": "code",
   "execution_count": 1,
   "metadata": {
    "collapsed": true
   },
   "outputs": [],
   "source": [
    "import pandas as pd\n",
    "import cStringIO\n",
    "import matplotlib.pyplot as plt\n",
    "import numpy as np\n",
    "from matplotlib.colors import LogNorm\n",
    "%matplotlib inline"
   ]
  },
  {
   "cell_type": "code",
   "execution_count": 7,
   "metadata": {
    "collapsed": false,
    "scrolled": false
   },
   "outputs": [
    {
     "name": "stdout",
     "output_type": "stream",
     "text": [
      "Ion T\n",
      "Electron T\n"
     ]
    },
    {
     "data": {
      "text/plain": [
       "<matplotlib.figure.Figure at 0x12a99e3d0>"
      ]
     },
     "metadata": {},
     "output_type": "display_data"
    },
    {
     "data": {
      "text/plain": [
       "<matplotlib.figure.Figure at 0x12ae02790>"
      ]
     },
     "metadata": {},
     "output_type": "display_data"
    },
    {
     "data": {
      "image/png": "[encoded data removed]",
      "text/plain": [
       "<matplotlib.figure.Figure at 0x12a99ed90>"
      ]
     },
     "metadata": {},
     "output_type": "display_data"
    },
    {
     "data": {
      "image/png": "[encoded data removed]",
      "text/plain": [
       "<matplotlib.figure.Figure at 0x111a75410>"
      ]
     },
     "metadata": {},
     "output_type": "display_data"
    }
   ],
   "source": [
    "class Parser(object):\n",
    "    '''Class that can parse a *.plt file. '''\n",
    "    def __init__(self,filename,spectrum_keys=['SPECTRUM3']):\n",
    "        self.filename=filename        \n",
    "        self.list_of_spectrum_keys=spectrum_keys\n",
    "        self.list_of_datablocks=[]\n",
    "        self.create_descriptors()\n",
    "        self.parse_file()\n",
    "\n",
    "    \n",
    "    def create_descriptors(self): \n",
    "        '''Creates a descriptive dictionary'''\n",
    "        full_list_of_edits=[]\n",
    "        full_list_of_times=[]\n",
    "        self.timesteps_str=[]\n",
    "        self.edit_name_list=[]\n",
    "        \n",
    "        line_index_before=0\n",
    "        line_diff=0\n",
    "        line_diff_list=[]       \n",
    "    \n",
    "        with open(self.filename) as f:\n",
    "            for line_index,line in enumerate(f):\n",
    "                if 'time' in line:\n",
    "                    full_list_of_times.append(line.split()[3])\n",
    "                    full_list_of_edits.append(str.join(' ', line.split()[5:]))\n",
    "\n",
    "        for i in full_list_of_times:\n",
    "            if i not in self.timesteps_str:\n",
    "                self.timesteps_str.append(i)\n",
    "                \n",
    "        self.timesteps_float=[float(temp) for temp in self.timesteps_str]\n",
    "                    \n",
    "        for i in full_list_of_edits:\n",
    "            if i not in self.edit_name_list:\n",
    "                self.edit_name_list.append(i)\n",
    "        \n",
    "        with open(self.filename) as f:\n",
    "            for line_index,line in enumerate(f):\n",
    "                if 'time' in line:\n",
    "                    #print '{0} found at line {1}'.format(line.split(),line_index)\n",
    "                    full_list_of_times.append(line.split()[3])\n",
    "                    full_list_of_edits.append(str.join(' ', line.split()[5:]))\n",
    "                    for edit_index,edit in enumerate(self.edit_name_list):\n",
    "                        if edit in line:\n",
    "                            line_index_diff=line_index-line_index_before\n",
    "                            line_index_before=line_index\n",
    "                            line_diff_list.append(line_index_diff)\n",
    "        \n",
    "        self.edit_length_list=line_diff_list[1:len(self.edit_name_list)+1]\n",
    "                \n",
    "        self.edit_dict_list=[]\n",
    "        \n",
    "        for edit_index,edit_name in enumerate(self.edit_name_list):\n",
    "            if self.edit_name_list[edit_index] in self.list_of_spectrum_keys:\n",
    "                edit_type='spectral'\n",
    "            else:\n",
    "                edit_type='layered'\n",
    "                self.number_of_layers=self.edit_length_list[edit_index]-3\n",
    "            edit={'Name':self.edit_name_list[edit_index],'Length':self.edit_length_list[edit_index],'Type':edit_type,'Order':edit_index}\n",
    "            self.edit_dict_list.append(edit)\n",
    "    \n",
    "    def parse_file(self):\n",
    "        '''Method that aggregates the data from the file'''\n",
    "        with open(self.filename) as f:\n",
    "            for line_index,line in enumerate(f):\n",
    "                line=line.rstrip()\n",
    "                if line.startswith('#'):\n",
    "                    time=line.split()[3]\n",
    "                    edit=str.join(' ', line.split()[5:])\n",
    "                    self.list_of_datablocks.append(DataBlock(line_index,time,edit))\n",
    "                elif line.startswith('$'):\n",
    "                    self.list_of_datablocks[-1].add_descriptor_line(line.strip('$'))\n",
    "                else:\n",
    "                    self.list_of_datablocks[-1].add_line(line)\n",
    "\n",
    "        for datablock in self.list_of_datablocks:\n",
    "            datablock.cleanup()\n",
    "                \n",
    "    def stupid_output(self):\n",
    "        '''A stupid function that simply print the original file line by line'''\n",
    "        with open(self.filename) as f:\n",
    "            for line in f:\n",
    "                print line\n",
    "    \n",
    "    def create_spectrum(self,edit_str,energy_str='sp_energy',int_str='jsp'):\n",
    "        '''A fucntion that returns an instance of the Spectrum class. '''\n",
    "        temp_energybin=[]\n",
    "        temp_intensity=[]\n",
    "        for datablock_index,datablock in enumerate(self.list_of_datablocks):\n",
    "            if datablock.edit==edit_str:\n",
    "                temp_energybin.append(np.array(datablock.df['sp_energy'])[:,0])\n",
    "                temp_intensity.append(np.array(datablock.df['jsp'])[:,0])\n",
    "        return Spectrum(np.array(temp_energybin),np.array(temp_intensity),timesteps=self.timesteps_float)\n",
    "    \n",
    "    def create_layered_data(self,edit,column_name,layer_index=0,plotkw=None):\n",
    "        temp_data=[]\n",
    "        for datablock_index,datablock in enumerate(self.list_of_datablocks):\n",
    "            if datablock.edit==edit:\n",
    "                temp_data.append(np.array(datablock.df[column_name])[layer_index])\n",
    "        return LayeredData(self.timesteps_float,temp_data,layer_index,plotkw=plotkw)\n",
    "    \n",
    "    def return_layered_data(self,edit,column_name,layer_index=0):\n",
    "        temp_data=[]\n",
    "        for datablock_index,datablock in enumerate(self.list_of_datablocks):\n",
    "            if datablock.edit==edit:\n",
    "                temp_data.append(np.array(datablock.df[column_name])[layer_index])\n",
    "        return temp_data\n",
    "        \n",
    "            \n",
    "class DataBlock(object):\n",
    "    '''Datablock for text'''\n",
    "    def __init__(self,lineindex,time,edit):\n",
    "        self.lineindex=lineindex\n",
    "        self.time=time\n",
    "        self.edit=edit\n",
    "        self.descriptor_lines=[]\n",
    "        self.lines=[]\n",
    "    def add_descriptor_line(self,line):\n",
    "        '''Add a line that contain column descriptors'''\n",
    "        self.descriptor_lines.append(line)\n",
    "    def add_line(self,line):\n",
    "        '''Add a line that contain actual data'''\n",
    "        self.number_of_columns=len(line.split())\n",
    "        self.lines.append(line)\n",
    "    def cleanup(self):\n",
    "        '''Method that is run after the whole datablock is saved'''\n",
    "        self.is_layered_data = 'r' in self.descriptor_lines[0]\n",
    "        self.one_row_descriptor=self.descriptor_lines[1]==''\n",
    "        if self.one_row_descriptor:\n",
    "            a=self.descriptor_lines[0]\n",
    "            b=\"\\n\".join(self.lines)\n",
    "            string_for_IO=\"\\n\".join([a,b])\n",
    "            v = cStringIO.StringIO()\n",
    "            v.write(string_for_IO)\n",
    "            v.seek(0)\n",
    "            self.df = pd.read_fwf(v)       \n",
    "        else:\n",
    "            a=\"\\n\".join(self.descriptor_lines)\n",
    "            b=\"\\n\".join(self.lines)\n",
    "            string_for_IO=\"\\n\".join([a,b])\n",
    "            v = cStringIO.StringIO()\n",
    "            v.write(string_for_IO)\n",
    "            v.seek(0)\n",
    "            self.df = pd.read_fwf(v, header=[0,1])\n",
    "\n",
    "class Spectrum(object):\n",
    "    '''Describes one spectrum'''\n",
    "    def __init__(self,energybin_list,intensity_list,timesteps=None):\n",
    "        self.energybin_list=energybin_list #a list\n",
    "        self.energybins=self.energybin_list[0]\n",
    "        self.intensity_list=intensity_list.T # a list\n",
    "        #self.energy_range=[min(self.energybins),max(self.energybins)]\n",
    "        #self.intensity_range=[min(self.intensity),max(self.intensity)]\n",
    "        self.timesteps=timesteps\n",
    "    def full_plot(self,material='Unknown',intensity='Unknown',fig=plt.figure()):\n",
    "        time_fs=np.array(self.timesteps)*1e15\n",
    "        plt.pcolormesh(time_fs,self.energybins,self.intensity_list,cmap='viridis',norm=LogNorm(vmin=0.1,vmax=self.intensity_list.max()))\n",
    "        plt.title('{0} at {1}'.format(material,intensity))\n",
    "        plt.xlabel('Time [fs]')\n",
    "        plt.ylabel('Energy [eV]')\n",
    "        plt.cbar=plt.colorbar()\n",
    "        plt.gca().set_yscale('log')\n",
    "        return fig\n",
    "    def diff_plot(self,material='Unknown',intensity='Unknown',fig=plt.figure()):\n",
    "        time_fs=np.array(self.timesteps)*1e15\n",
    "        plt.pcolormesh(time_fs,self.energybins,self.intensity_list_diff,cmap='viridis')\n",
    "        plt.title('{0} at {1}'.format(material,intensity))\n",
    "        plt.xlabel('Time [fs]')\n",
    "        plt.ylabel('Energy [eV]')\n",
    "        plt.cbar=plt.colorbar()\n",
    "        plt.gca().set_yscale('log')\n",
    "        return fig\n",
    "    def subtract_background(self,spectrum):\n",
    "        self.intensity_list_diff =  np.subtract(self.intensity_list,spectrum.intensity_list)\n",
    "        #self.intensity_list_diff =  np.divide(np.subtract(self.intensity_list,spectrum.intensity_list),np.add(self.intensity_list,spectrum.intensity_list))\n",
    "\n",
    "class LayeredData(object):\n",
    "    '''Data from a single layer of a simulation. Contains methods for plotting'''\n",
    "    def __init__(self,timesteps,data,layer_index=None,plotkw={'label':'Unknown'}):\n",
    "        self.timesteps=timesteps\n",
    "        self.data=data\n",
    "        self.layer_index=layer_index\n",
    "        self.plotkw=plotkw\n",
    "    def plot_data(self,ax=None):\n",
    "        if ax is None:\n",
    "            self.fig=plt.figure()\n",
    "            \n",
    "        \n",
    "        '''Plot the data, returns nothing'''\n",
    "        titlestring=self.plotkw.pop('title', None)\n",
    "        self.a=plt.plot(self.timesteps,self.data,marker='o',**self.plotkw)\n",
    "        print titlestring\n",
    "        #plt.title(titlestring)\n",
    "        plt.legend(loc=0)\n",
    "        plt.xlabel('Time [s]')\n",
    "        \n",
    "        \n",
    "class Temperature(LayeredData):\n",
    "    pass\n",
    "    \n",
    "        \n",
    "class Simulation(object):\n",
    "    def __init__(self,file_path,material=None):\n",
    "        self.material=material\n",
    "        self.parser=Parser(file_path)\n",
    "        self.timesteps=self.parser.timesteps_float\n",
    "        self.number_of_layers=self.parser.number_of_layers\n",
    "        self.ion_temp_data=self.parser.create_layered_data('r vs tiv','tiv',plotkw={'title':'Ion T','label':material})\n",
    "        self.electron_temp_data=self.parser.create_layered_data('r vs tev','tev',plotkw={'title':'Electron T','label':material})\n",
    "        self.ion_collision_data=self.parser.create_layered_data('r vs tauii','tauii',plotkw={'title':'Tauii','label':material})\n",
    "        self.ion_data=self.parser.create_layered_data('r vs zbar','zbar',plotkw={'title':'Ionization','label':material})\n",
    "    def calculate_plasma_parameters(self):\n",
    "        ne=self.parser.create_layered_data('r vs number_of_e','ne').data[1]\n",
    "        Te=electron_temp_data.data[1]\n",
    "        Debye = [7.43e2 * np.sqrt(Te[i]/ne[i]) for i in range(0,np.size(ne))]\n",
    "        plasma_parameter= [4*np.pi * np.multiply(ne[i],np.power(Debye[i],3)) for i in range(0,np.size(ne))]        \n",
    "        self.plasma_parameter=LayeredData(self.timesteps,plasma_parameter,plotkw={'title':'Plasma param','label':material})\n",
    "    def create_spectrum(self):\n",
    "        self.spectrum=self.parser.create_spectrum('SPECTRUM3')\n",
    "    def calculate_displacement(self):       \n",
    "        displacementsquared=np.zeros(len(Otiv))\n",
    "        for timeindex,time in enumerate(timesteps):\n",
    "            if timeindex>2:\n",
    "                displacementsquared[timeindex]=displacementsquared[timeindex-1]+1E20*Otiv[timeindex]*Otauii[timeindex]*1.606659580228838E-8\n",
    "            else:\n",
    "                displacementsquared[timeindex]=0.0\n",
    "        displacement=np.sqrt(displacementsquared)\n",
    "        self.displacement_data=LayeredData(self.timesteps,plasma_parameter,plotkw={'title':'Plasma param','label':material})\n",
    "\n",
    "    \n",
    "    \n",
    "\n",
    "my_sim=Simulation('run.plt')\n",
    "#short=Simulation('../../../../../Software/Emission/Analysis/RAWFROMTINTIN/100-fs/short/ener-7000/fl-1E20/run.plt')\n",
    "#fig1=plt.figure()\n",
    "#short.spectrum.full_plot(fig=fig1,material='short')\n",
    "#water=Simulation('../../../../../Software/Emission/Analysis/RAWFROMTINTIN/100-fs/short_water/ener-7000/fl-1E20/run.plt')\n",
    "#fig2=plt.figure()\n",
    "#water.spectrum.full_plot(fig=fig2,material='water')\n",
    "#short.spectrum.subtract_background(water.spectrum)\n",
    "#fig3=plt.figure()\n",
    "#short.spectrum.diff_plot(fig=fig3,material='subtracted')\n",
    "\n",
    "#short.parser.create_layered_data('r vs tiv','tiv').plot_data()\n",
    "#plt.figure()\n",
    "#test=short.parser.create_layered_data('r vs zbar','zbar')\n",
    "#test.plot_data()\n",
    "#plt.figure()\n",
    "#plt.figure()\n",
    "#short.parser.create_layered_data('r vs tiv','tiv').plot_data()\n",
    "#plt.figure()\n",
    "#water.parser.create_layered_data('r vs tiv','tiv').plot_data()\n",
    "\n",
    "my_sim.ion_temp_data.plot_data()\n",
    "my_sim.electron_temp_data.plot_data()\n",
    "#plt.figure()\n",
    "#my_sim.ion_data.plot_data()\n",
    "#plt.figure()\n",
    "#my_sim.spectrum.full_plot()\n"
   ]
  },
  {
   "cell_type": "code",
   "execution_count": 3,
   "metadata": {
    "collapsed": false
   },
   "outputs": [],
   "source": [
    "plt.show()"
   ]
  },
  {
   "cell_type": "code",
   "execution_count": 4,
   "metadata": {
    "collapsed": false,
    "scrolled": false
   },
   "outputs": [],
   "source": [
    "water_100fs=Simulation('../../../../../Software/Proposal/100-fs/100fs/ener-6900/fl-1E6/run.plt',material='100 fs water')\n",
    "salt_100fs=Simulation('../../../../../Software/Proposal/100-fs/100fs_NaI/ener-6900/fl-1E6/run.plt',material='100 fs salt')\n",
    "water_40fs=Simulation('../../../../../Software/Proposal/100-fs/40fs/ener-6900/fl-1E6/run.plt',material='40 fs water')\n",
    "salt_40fs=Simulation('../../../../../Software/Proposal/100-fs/40fs_NaI/ener-6900/fl-1E6/run.plt',material='40 fs salt')\n",
    "sims=[water_100fs,salt_100fs,water_40fs,salt_40fs]"
   ]
  },
  {
   "cell_type": "code",
   "execution_count": 5,
   "metadata": {
    "collapsed": false,
    "scrolled": false
   },
   "outputs": [
    {
     "name": "stdout",
     "output_type": "stream",
     "text": [
      "Ion T\n",
      "Ion T\n",
      "Ion T\n",
      "Ion T\n",
      "Tauii\n",
      "Tauii\n",
      "Tauii\n",
      "Tauii\n"
     ]
    },
    {
     "data": {
      "image/png": "[encoded data removed]",
      "text/plain": [
       "<matplotlib.figure.Figure at 0x111a84b50>"
      ]
     },
     "metadata": {},
     "output_type": "display_data"
    },
    {
     "data": {
      "image/png": "[encoded data removed]",
      "text/plain": [
       "<matplotlib.figure.Figure at 0x111a84a90>"
      ]
     },
     "metadata": {},
     "output_type": "display_data"
    }
   ],
   "source": [
    "for sim in sims:\n",
    "    sim.ion_temp_data.plot_data()\n",
    "    \n",
    "plt.figure()\n",
    "for sim in sims:\n",
    "    sim.ion_collision_data.plot_data()\n",
    "    \n",
    "#for sim in sims[:2]:\n",
    "#    sim.ion_collision_data.plot_data()\n",
    "    \n",
    "#for sim in sims[:2]:\n",
    "#    sim.calculate_displacement()\n",
    "#    sim.displacement_data.plot_data()\n",
    "    \n"
   ]
  },
  {
   "cell_type": "code",
   "execution_count": 6,
   "metadata": {
    "collapsed": false
   },
   "outputs": [
    {
     "data": {
      "text/plain": [
       "<matplotlib.legend.Legend at 0x12aa44a50>"
      ]
     },
     "execution_count": 6,
     "metadata": {},
     "output_type": "execute_result"
    },
    {
     "data": {
      "image/png": "[encoded data removed]",
      "text/plain": [
       "<matplotlib.figure.Figure at 0x111a84890>"
      ]
     },
     "metadata": {},
     "output_type": "display_data"
    },
    {
     "data": {
      "image/png": "[encoded data removed]",
      "text/plain": [
       "<matplotlib.figure.Figure at 0x12a9d5c90>"
      ]
     },
     "metadata": {},
     "output_type": "display_data"
    }
   ],
   "source": [
    "simulation=water_100fs\n",
    "def displacement(simulation):\n",
    "    tauii=simulation.ion_collision_data.data\n",
    "    tiv=simulation.ion_temp_data.data\n",
    "    times=simulation.timesteps\n",
    "    \n",
    "    displacementsquared=np.zeros(len(tiv))\n",
    "    for timeindex,time in enumerate(times):\n",
    "        if timeindex>2:\n",
    "            displacementsquared[timeindex]=displacementsquared[timeindex-1]+1E20*tiv[timeindex]*tauii[timeindex]*1.606659580228838E-8\n",
    "        else:\n",
    "            displacementsquared[timeindex]=0.0\n",
    "    return times,np.sqrt(displacementsquared),tauii\n",
    "\n",
    "plt.figure()\n",
    "\n",
    "for simulation in sims:\n",
    "    t,disp,tauii=displacement(simulation)\n",
    "    plt.plot(t,disp,label=simulation.material)\n",
    "    plt.xlabel('t')\n",
    "    plt.ylabel('disp [nm]')\n",
    "    \n",
    "plt.legend(loc=0)\n",
    "\n",
    "plt.figure()\n",
    "\n",
    "for simulation in sims:\n",
    "    t,disp,tauii=displacement(simulation)\n",
    "    plt.plot(t[3:],tauii[3:],label=simulation.material)\n",
    "    plt.xlabel('t')\n",
    "    plt.ylabel('tauii')\n",
    "    \n",
    "plt.legend(loc=0)\n"
   ]
  },
  {
   "cell_type": "code",
   "execution_count": null,
   "metadata": {
    "collapsed": false
   },
   "outputs": [],
   "source": [
    "class Timestep(object):\n",
    "    '''Describes one timestep'''\n",
    "    def __init__(self,time,timeindex,**spectrum):\n",
    "        self.time=time\n",
    "        self.index=timeindex\n",
    "        self.list_of_layers=layers\n",
    "        self.spectrum=Spectrum(**spectrum)\n",
    "\n",
    "class Spectrum(object):\n",
    "    '''Describes one spectrum'''\n",
    "    def __init__(self,energybins,intensity):\n",
    "        self.energybins=energybins #a list\n",
    "        self.intensity=intensity # a list\n",
    "        self.energy_range=[min(energybins),max(energybins)]\n",
    "        self.intensity_range=[min(intensity),max(intensity)]\n",
    "        self._clean_spectrum = None\n",
    "    \n",
    "class Layer(object):\n",
    "    '''Describes one layer'''\n",
    "    def __init__(self,name,composition,average_ionization,energybins,intensity,layer):\n",
    "        self.name=name\n",
    "        self.composition=composition\n",
    "        self.position_index=position_index\n",
    "        #self.ionization=average_ionization\n",
    "        #self.temperature=temperature\n",
    "        self.timestep_it_belongs_to=timestep\n",
    "        self.Spectrum=Spectrum(energybins,intensity)\n",
    "\n",
    "class Timestep(object):\n",
    "    '''Describes one timestep'''\n",
    "    def __init__(self,time,timeindex):\n",
    "        self.time=time\n",
    "        self.line_index=line_index\n",
    "        self.list_of_layers=layers\n",
    "        \n",
    "class Spectrum(object):\n",
    "    '''Describes one spectrum'''\n",
    "    def __init__(self,energybins,intensity):\n",
    "        self.energybins=energybins #a list\n",
    "        self.intensity=intensity # a list\n",
    "        self.energy_range=[min(energybins),max(energybins)]\n",
    "        self.intensity_range=[min(intensity),max(intensity)]\n",
    "        self._clean_spectrum = None\n",
    "        \n",
    "    def return_spectrum(self):\n",
    "        return self.energybins,self.energy_range\n",
    "    \n",
    "    def clean_spectrum(self):\n",
    "        '''\n",
    "        EXPENSIVE\n",
    "        '''            \n",
    "        if self._clean_spectrum is None:\n",
    "            r = threshold\n",
    "            for i in range(100000000000):\n",
    "                r += i\n",
    "            self._clean_spectrum = r\n",
    "        else:\n",
    "            return self._clean_spectrum\n",
    "        \n",
    "    def wash_spectrum(self):\n",
    "        '''\n",
    "        EXPENSIVE\n",
    "        '''\n",
    "        if not hasattr(self, \"_wash_spectrum\"):\n",
    "            r = sum(range(10000000))\n",
    "            self._wash_spectrum = r\n",
    "        return self._wash_spectrum\n",
    "        \n",
    "    def calculate_spectrum(self,background_spectrum=None,method='subtract'):\n",
    "        self.background_spectrum=background_spectrum\n",
    "        if method==subtract:\n",
    "            self.spectrum=self.spectrum-self.background_spectrum\n",
    "            return\n",
    "        else:\n",
    "            print 'No background correction done'\n",
    "            return\n",
    "\n",
    "class SpectrumPlot(object):\n",
    "    '''\n",
    "    A plot that describes spectral data\n",
    "    '''\n",
    "    def __init__(self,spectrum,ranges):\n",
    "        self.spectrum=spectrum\n",
    "        self.ranges=ranges\n",
    "    def create_heat_panel(self):\n",
    "        pass\n",
    "    def create_sum_panel(self):\n",
    "        pass\n",
    "    def show_composite_plot(self):\n",
    "        pass            "
   ]
  },
  {
   "cell_type": "code",
   "execution_count": null,
   "metadata": {
    "collapsed": true
   },
   "outputs": [],
   "source": []
  },
  {
   "cell_type": "code",
   "execution_count": null,
   "metadata": {
    "collapsed": false
   },
   "outputs": [],
   "source": []
  },
  {
   "cell_type": "code",
   "execution_count": null,
   "metadata": {
    "collapsed": false
   },
   "outputs": [],
   "source": []
  },
  {
   "cell_type": "code",
   "execution_count": null,
   "metadata": {
    "collapsed": false
   },
   "outputs": [],
   "source": []
  },
  {
   "cell_type": "code",
   "execution_count": null,
   "metadata": {
    "collapsed": true
   },
   "outputs": [],
   "source": []
  }
 ],
 "metadata": {
  "kernelspec": {
   "display_name": "Python 2",
   "language": "python",
   "name": "python2"
  },
  "language_info": {
   "codemirror_mode": {
    "name": "ipython",
    "version": 2
   },
   "file_extension": ".py",
   "mimetype": "text/x-python",
   "name": "python",
   "nbconvert_exporter": "python",
   "pygments_lexer": "ipython2",
   "version": "2.7.6"
  }
 },
 "nbformat": 4,
 "nbformat_minor": 0
}
