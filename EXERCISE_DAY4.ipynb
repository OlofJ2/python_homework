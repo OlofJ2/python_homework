{
 "cells": [
  {
   "cell_type": "code",
   "execution_count": 141,
   "metadata": {
    "collapsed": false
   },
   "outputs": [
    {
     "ename": "TypeError",
     "evalue": "'NoneType' object is not iterable",
     "output_type": "error",
     "traceback": [
      "\u001b[0;31m---------------------------------------------------------------------------\u001b[0m",
      "\u001b[0;31mTypeError\u001b[0m                                 Traceback (most recent call last)",
      "\u001b[0;32m<ipython-input-141-26515b494208>\u001b[0m in \u001b[0;36m<module>\u001b[0;34m()\u001b[0m\n\u001b[1;32m     44\u001b[0m \u001b[0msongs\u001b[0m \u001b[0;34m=\u001b[0m \u001b[0mNone\u001b[0m \u001b[0;31m# TODO\u001b[0m\u001b[0;34m\u001b[0m\u001b[0m\n\u001b[1;32m     45\u001b[0m \u001b[0;34m\u001b[0m\u001b[0m\n\u001b[0;32m---> 46\u001b[0;31m \u001b[0;32mfor\u001b[0m \u001b[0ms\u001b[0m \u001b[0;32min\u001b[0m \u001b[0msongs\u001b[0m\u001b[0;34m:\u001b[0m \u001b[0;32mprint\u001b[0m \u001b[0ms\u001b[0m\u001b[0;34m.\u001b[0m\u001b[0martist\u001b[0m\u001b[0;34m\u001b[0m\u001b[0m\n\u001b[0m\u001b[1;32m     47\u001b[0m \u001b[0;32mfor\u001b[0m \u001b[0ms\u001b[0m \u001b[0;32min\u001b[0m \u001b[0msongs\u001b[0m\u001b[0;34m:\u001b[0m \u001b[0;32mprint\u001b[0m \u001b[0ms\u001b[0m\u001b[0;34m.\u001b[0m\u001b[0mpretty_duration\u001b[0m\u001b[0;34m(\u001b[0m\u001b[0;34m)\u001b[0m\u001b[0;34m\u001b[0m\u001b[0m\n\u001b[1;32m     48\u001b[0m \u001b[0;32mprint\u001b[0m \u001b[0msum\u001b[0m\u001b[0;34m(\u001b[0m\u001b[0ms\u001b[0m\u001b[0;34m.\u001b[0m\u001b[0mduration\u001b[0m \u001b[0;32mfor\u001b[0m \u001b[0ms\u001b[0m \u001b[0;32min\u001b[0m \u001b[0msongs\u001b[0m\u001b[0;34m)\u001b[0m\u001b[0;34m,\u001b[0m \u001b[0;34m\"seconds in total\"\u001b[0m\u001b[0;34m\u001b[0m\u001b[0m\n",
      "\u001b[0;31mTypeError\u001b[0m: 'NoneType' object is not iterable"
     ]
    }
   ],
   "source": [
    "#!/usr/bin/env python\n",
    "\n",
    "\"\"\"\n",
    "Python course EBC 2016\n",
    "Day 4 - Exercise instructions\n",
    "Lucas Sinclair <lucas.sinclair@me.com>\n",
    "\n",
    "* Write a program in a file called \"exercise_day4.py\"\n",
    "* You have until the start of the next course at 13h00 tomorrow to finish it.\n",
    "* Once the program is done, upload it in your github repository \"python_homework\" in a directory named \"day4\".\n",
    "\n",
    "The program should read the file named \"lulu_mix_16.csv\". This file should be placed in your \"home\" directory. Your program should use the OS environment variable \"$HOME\" to find the file.\n",
    "This file is a comma separated values format. It contains information about different music tracks.\n",
    "\n",
    "For each line in the file (excluding the header) the program should produce a new \"Song\" instance. It should place all the Song instances created in a list called \"songs\".\n",
    "\n",
    "### Each Song object should have these attributes:\n",
    "\n",
    "* title\n",
    "The title of the song as a string.\n",
    "\n",
    "* artist\n",
    "The artist of the song as a string.\n",
    "\n",
    "* duration\n",
    "The title of the song as an integer in seconds.\n",
    "\n",
    "When creating new Song instances:\n",
    "\n",
    "-> If the duration of a song is not a number, set it to 0, but issue a warning.\n",
    "-> If the duration of a song is negative, raise an Exception and stop the program.\n",
    "\n",
    "### Each Song object should have these methods:\n",
    "\n",
    "* pretty_duration(self)\n",
    "Returns a nice string describing the duration. For instance if the duration is 3611, this methods takes no input and returns \"01 hours 00 minutes 11 seconds\" as a string.\n",
    "\n",
    "* play(self)\n",
    "Automatically opens a webpage on your computer with a youtube search for the title.\n",
    "\n",
    "Once your program is ready the following four lines of code should run without errors. (After you have removed the negative duration song!).\n",
    "\"\"\"\n",
    "\n",
    "songs = None # TODO\n",
    "\n",
    "for s in songs: print s.artist\n",
    "for s in songs: print s.pretty_duration()\n",
    "print sum(s.duration for s in songs), \"seconds in total\"\n",
    "songs[6].play()"
   ]
  },
  {
   "cell_type": "code",
   "execution_count": 240,
   "metadata": {
    "collapsed": true
   },
   "outputs": [],
   "source": [
    "import os\n",
    "import pandas as pd\n",
    "import warnings\n",
    "import webbrowser"
   ]
  },
  {
   "cell_type": "code",
   "execution_count": 241,
   "metadata": {
    "collapsed": true
   },
   "outputs": [],
   "source": [
    "class Song(object):\n",
    "    '''Describes musical songs'''\n",
    "    def __init__(self,title,artist,duration): #constructor\n",
    "        def duration_check(self,duration):\n",
    "            try: \n",
    "                int(duration)\n",
    "            except ValueError:\n",
    "                warnings.warn(\"Duration is not a number, is now set to 0\")\n",
    "                return 0\n",
    "            else:\n",
    "                duration=int(duration)          \n",
    "            if duration<0:\n",
    "                raise Exception(\"APA\")\n",
    "            return duration        \n",
    "        self.title=title\n",
    "        self.artist=artist\n",
    "        self.duration=duration_check(self,duration)\n",
    "    def play(self):\n",
    "        webbrowser.open(\"https://www.youtube.com/results?search_query={0} {1}\".format(self.title,self.artist))\n",
    "        print 'playing \"{0}\" by \"{1}\"'.format(self.title,self.artist)\n",
    "    def pretty_duration(self):\n",
    "        '''Returns a pretty string formated as \"x h: y min: z s\" with z as hours, y as minutes, z as seconds\n",
    "        '''\n",
    "        m, s = divmod(self.duration, 60)\n",
    "        h, m = divmod(m, 60)\n",
    "        return '{0} h: {1} min {2} s'.format(h,m,s)\n",
    "    def print_all_info(self):\n",
    "        print ',\\t'.join(\"%s: %s\" % item for item in self.__dict__.items()) #use the __dict__ command to print all attributes"
   ]
  },
  {
   "cell_type": "code",
   "execution_count": 246,
   "metadata": {
    "collapsed": false
   },
   "outputs": [
    {
     "ename": "Exception",
     "evalue": "No file called /Users/olojo993/lulu_mix_16.csv.",
     "output_type": "error",
     "traceback": [
      "\u001b[0;31m---------------------------------------------------------------------------\u001b[0m",
      "\u001b[0;31mException\u001b[0m                                 Traceback (most recent call last)",
      "\u001b[0;32m<ipython-input-246-11a86e140701>\u001b[0m in \u001b[0;36m<module>\u001b[0;34m()\u001b[0m\n\u001b[1;32m      1\u001b[0m \u001b[0min_path\u001b[0m\u001b[0;34m=\u001b[0m\u001b[0;34m'{0}/lulu_mix_16.csv'\u001b[0m\u001b[0;34m.\u001b[0m\u001b[0mformat\u001b[0m\u001b[0;34m(\u001b[0m\u001b[0mos\u001b[0m\u001b[0;34m.\u001b[0m\u001b[0menviron\u001b[0m\u001b[0;34m[\u001b[0m\u001b[0;34m'HOME'\u001b[0m\u001b[0;34m]\u001b[0m\u001b[0;34m)\u001b[0m\u001b[0;34m\u001b[0m\u001b[0m\n\u001b[1;32m      2\u001b[0m \u001b[0;32mif\u001b[0m \u001b[0;32mnot\u001b[0m \u001b[0mos\u001b[0m\u001b[0;34m.\u001b[0m\u001b[0mpath\u001b[0m\u001b[0;34m.\u001b[0m\u001b[0mexists\u001b[0m\u001b[0;34m(\u001b[0m\u001b[0min_path\u001b[0m\u001b[0;34m)\u001b[0m\u001b[0;34m:\u001b[0m\u001b[0;34m\u001b[0m\u001b[0m\n\u001b[0;32m----> 3\u001b[0;31m     \u001b[0;32mraise\u001b[0m \u001b[0mException\u001b[0m\u001b[0;34m(\u001b[0m\u001b[0;34m'No file called {0}.'\u001b[0m\u001b[0;34m.\u001b[0m\u001b[0mformat\u001b[0m\u001b[0;34m(\u001b[0m\u001b[0min_path\u001b[0m\u001b[0;34m)\u001b[0m\u001b[0;34m)\u001b[0m\u001b[0;34m\u001b[0m\u001b[0m\n\u001b[0m\u001b[1;32m      4\u001b[0m \u001b[0;34m\u001b[0m\u001b[0m\n\u001b[1;32m      5\u001b[0m \u001b[0msong_frame\u001b[0m\u001b[0;34m=\u001b[0m\u001b[0mpd\u001b[0m\u001b[0;34m.\u001b[0m\u001b[0mread_csv\u001b[0m\u001b[0;34m(\u001b[0m\u001b[0min_path\u001b[0m\u001b[0;34m,\u001b[0m\u001b[0mheader\u001b[0m\u001b[0;34m=\u001b[0m\u001b[0;36m0\u001b[0m\u001b[0;34m,\u001b[0m\u001b[0minfer_datetime_format\u001b[0m\u001b[0;34m=\u001b[0m\u001b[0mFalse\u001b[0m\u001b[0;34m)\u001b[0m\u001b[0;34m\u001b[0m\u001b[0m\n",
      "\u001b[0;31mException\u001b[0m: No file called /Users/olojo993/lulu_mix_16.csv."
     ]
    }
   ],
   "source": [
    "in_path='{0}/lulu_mix_16.csv'.format(os.environ['HOME'])\n",
    "if not os.path.exists(in_path):\n",
    "    raise Exception('No file called {0}.'.format(in_path))\n",
    "\n",
    "song_frame=pd.read_csv(in_path,header=0,infer_datetime_format=False)\n",
    "songs=[]\n",
    "for index,row in song_frame.iterrows():\n",
    "    print row['Name'],row['Artist'],row['Duration']\n",
    "    try :\n",
    "        songs.append(Song(row['Name'],row['Artist'],row['Duration']))\n",
    "    except Exception:\n",
    "        print \"{0} is a negative number, can't add {1} by {2}\".format(row['Duration'],row['Name'],row['Artist'])"
   ]
  },
  {
   "cell_type": "code",
   "execution_count": 243,
   "metadata": {
    "collapsed": false
   },
   "outputs": [
    {
     "name": "stdout",
     "output_type": "stream",
     "text": [
      "Duck Sauce\n",
      "Calvin Harris\n",
      "Skrillex feat. Sirah\n",
      "Crystal Castles\n",
      "Rusko\n",
      "Flux Pavilion\n",
      "Flux Pavilion\n",
      "Overwerk\n",
      "Make The Girl Dance\n",
      "The Gossip\n",
      "Crookers\n",
      "Deorro\n",
      "Kavinsky\n",
      "Cut Copy\n",
      "Justice\n",
      "The Glitch Mob\n",
      "The Subs\n",
      "The Glitch Mob\n",
      "R�yksopp\n",
      "Avicii\n",
      "Armand Van Helden feat. Spalding Rockwell \n",
      "Benny Benassi feat. Gary Go\n",
      "Ratatat\n",
      "Seamus Haji & Cevin Fisher\n",
      "Coyote Kisses\n",
      "Stephen Walking & Soulero\n",
      "Doctor P and Cecile Charlton\n",
      "David Guetta feat Vassy\n",
      "0 h: 5 min 0 s\n",
      "0 h: 5 min 33 s\n",
      "0 h: 3 min 35 s\n",
      "0 h: 4 min 12 s\n",
      "0 h: 4 min 11 s\n",
      "0 h: 5 min 5 s\n",
      "0 h: 5 min 50 s\n",
      "0 h: 5 min 4 s\n",
      "0 h: 4 min 4 s\n",
      "0 h: 6 min 54 s\n",
      "0 h: 5 min 5 s\n",
      "0 h: 0 min 0 s\n",
      "0 h: 4 min 18 s\n",
      "0 h: 4 min 37 s\n",
      "0 h: 5 min 50 s\n",
      "0 h: 5 min 26 s\n",
      "0 h: 5 min 22 s\n",
      "0 h: 4 min 22 s\n",
      "0 h: 6 min 11 s\n",
      "0 h: 4 min 38 s\n",
      "0 h: 7 min 45 s\n",
      "0 h: 5 min 7 s\n",
      "0 h: 3 min 46 s\n",
      "0 h: 6 min 23 s\n",
      "0 h: 5 min 36 s\n",
      "0 h: 4 min 56 s\n",
      "0 h: 4 min 9 s\n",
      "0 h: 4 min 30 s\n",
      "8249 seconds in total\n",
      "playing \"Got 2 Know\" by \"Flux Pavilion\"\n"
     ]
    }
   ],
   "source": [
    "for s in songs: print s.artist\n",
    "for s in songs: print s.pretty_duration()\n",
    "print sum(s.duration for s in songs), \"seconds in total\"\n",
    "songs[6].play()"
   ]
  },
  {
   "cell_type": "code",
   "execution_count": 236,
   "metadata": {
    "collapsed": false
   },
   "outputs": [
    {
     "name": "stdout",
     "output_type": "stream",
     "text": [
      "duration: 300,\tartist: Duck Sauce,\ttitle: Barbra Streisand\n",
      "duration: 333,\tartist: Calvin Harris,\ttitle: Acceptable in the 80s\n",
      "duration: 215,\tartist: Skrillex feat. Sirah,\ttitle: Bangarang\n",
      "duration: 252,\tartist: Crystal Castles,\ttitle: Baptism\n",
      "duration: 251,\tartist: Rusko,\ttitle: Everyday (Netsky Remix)\n",
      "duration: 305,\tartist: Flux Pavilion,\ttitle: I Can't Stop\n",
      "duration: 350,\tartist: Flux Pavilion,\ttitle: Got 2 Know\n",
      "duration: 304,\tartist: Overwerk,\ttitle: Daybreak (GoPro HERO3 Edit)\n",
      "duration: 244,\tartist: Make The Girl Dance,\ttitle: Baby Baby Baby\n",
      "duration: 414,\tartist: The Gossip,\ttitle: Standing In The Way Of Control\n",
      "duration: 305,\tartist: Crookers,\ttitle: Knobbers\n",
      "duration: 0,\tartist: Deorro,\ttitle: Five Hours\n",
      "duration: 258,\tartist: Kavinsky,\ttitle: Nightcall\n",
      "duration: 277,\tartist: Cut Copy,\ttitle: Lights & Music\n",
      "duration: 350,\tartist: Justice,\ttitle: Safe And Sound\n",
      "duration: 326,\tartist: The Glitch Mob,\ttitle: We Can Make The World Stop\n",
      "duration: 322,\tartist: The Subs,\ttitle: Mitsubishi\n",
      "duration: 262,\tartist: The Glitch Mob,\ttitle: Fortune Days\n",
      "duration: 371,\tartist: R�yksopp,\ttitle: Eple (Full Version)\n",
      "duration: 278,\tartist: Avicii,\ttitle: Levels (Skrillex remix)\n",
      "duration: 465,\tartist: Armand Van Helden feat. Spalding Rockwell ,\ttitle: Hear my Name\n",
      "duration: 307,\tartist: Benny Benassi feat. Gary Go,\ttitle: Cinema (Skrillex Remix)\n",
      "duration: 226,\tartist: Ratatat,\ttitle: Loud Pipes\n",
      "duration: 383,\tartist: Seamus Haji & Cevin Fisher,\ttitle: I Love Ibiza (Original Mix)\n",
      "duration: 336,\tartist: Coyote Kisses,\ttitle: Acid Wolfpack (Original Mix)\n",
      "duration: 296,\tartist: Stephen Walking & Soulero,\ttitle: Ampersand (Original Mix)\n",
      "duration: 249,\tartist: Doctor P and Cecile Charlton,\ttitle: Flying Spaghetti Monster\n",
      "duration: 270,\tartist: David Guetta feat Vassy,\ttitle: Bad (Original Mix)\n"
     ]
    }
   ],
   "source": [
    "for s in songs: \n",
    "        s.print_all_info()"
   ]
  },
  {
   "cell_type": "code",
   "execution_count": 244,
   "metadata": {
    "collapsed": false
   },
   "outputs": [
    {
     "name": "stdout",
     "output_type": "stream",
     "text": [
      "/Users/olojo993\n"
     ]
    }
   ],
   "source": [
    "print os.environ['HOME']"
   ]
  },
  {
   "cell_type": "code",
   "execution_count": null,
   "metadata": {
    "collapsed": true
   },
   "outputs": [],
   "source": []
  }
 ],
 "metadata": {
  "kernelspec": {
   "display_name": "Python 2",
   "language": "python",
   "name": "python2"
  },
  "language_info": {
   "codemirror_mode": {
    "name": "ipython",
    "version": 2
   },
   "file_extension": ".py",
   "mimetype": "text/x-python",
   "name": "python",
   "nbconvert_exporter": "python",
   "pygments_lexer": "ipython2",
   "version": "2.7.6"
  }
 },
 "nbformat": 4,
 "nbformat_minor": 0
}
